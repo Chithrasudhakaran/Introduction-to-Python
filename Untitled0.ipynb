{
  "nbformat": 4,
  "nbformat_minor": 0,
  "metadata": {
    "colab": {
      "provenance": [],
      "authorship_tag": "ABX9TyPfiIWLtKLUFMrZ4T1Gg+0F",
      "include_colab_link": true
    },
    "kernelspec": {
      "name": "python3",
      "display_name": "Python 3"
    },
    "language_info": {
      "name": "python"
    }
  },
  "cells": [
    {
      "cell_type": "markdown",
      "metadata": {
        "id": "view-in-github",
        "colab_type": "text"
      },
      "source": [
        "<a href=\"https://colab.research.google.com/github/Chithrasudhakaran/Introduction-to-Python/blob/main/Untitled0.ipynb\" target=\"_parent\"><img src=\"https://colab.research.google.com/assets/colab-badge.svg\" alt=\"Open In Colab\"/></a>"
      ]
    },
    {
      "cell_type": "code",
      "execution_count": null,
      "metadata": {
        "colab": {
          "base_uri": "https://localhost:8080/"
        },
        "id": "0SY6WWJi1ho0",
        "outputId": "ee6cde42-d5d2-4a7b-bdc5-32665c5f0988"
      },
      "outputs": [
        {
          "output_type": "stream",
          "name": "stdout",
          "text": [
            "Welcome to the Quiz Application!\n",
            "Choose a subject:\n",
            "1) History\n",
            "2) Math\n",
            "> 2\n",
            "Starting the Math quiz...\n",
            "What is the value of pi?\n",
            "> 3.14\n",
            "Incorrect.\n",
            "What is the square root of 64?\n"
          ]
        }
      ],
      "source": [
        "import time\n",
        "\n",
        "# define the questions and answers for a quiz\n",
        "quiz_data = {\n",
        "    \"History\": {\n",
        "        \"What year was the American Civil War?\": \"1861\",\n",
        "        \"Who was the first president of the United States?\": \"George Washington\",\n",
        "        \"What is the Magna Carta?\": \"A document that limited the power of the English monarchy\"\n",
        "    },\n",
        "    \"Math\": {\n",
        "        \"What is the value of pi?\": \"3.14159265359\",\n",
        "        \"What is the square root of 64?\": \"8\",\n",
        "        \"What is the sum of 2+2?\": \"4\"\n",
        "    }\n",
        "}\n",
        "\n",
        "# function to display the quiz and ask for user input\n",
        "def take_quiz(subject):\n",
        "    score = 0\n",
        "    quiz_questions = quiz_data[subject]\n",
        "    user_answers = {}\n",
        "\n",
        "    # display each question and ask for user input\n",
        "    for question in quiz_questions:\n",
        "        print(question)\n",
        "        user_answer = input(\"> \")\n",
        "        user_answers[question] = user_answer\n",
        "        if user_answer.lower() == quiz_questions[question].lower():\n",
        "            print(\"Correct!\")\n",
        "            score += 1\n",
        "        else:\n",
        "            print(\"Incorrect.\")\n",
        "\n",
        "    # display the user's score\n",
        "    print(\"Quiz complete!\")\n",
        "    print(\"Your score is {}/{}\".format(score, len(quiz_questions)))\n",
        "\n",
        "# function to run the quiz application\n",
        "def run_quiz():\n",
        "    # ask the user which subject they want to take a quiz on\n",
        "    print(\"Welcome to the Quiz Application!\")\n",
        "    print(\"Choose a subject:\")\n",
        "    for i, subject in enumerate(quiz_data):\n",
        "        print(\"{}) {}\".format(i+1, subject))\n",
        "    subject_choice = int(input(\"> \"))\n",
        "    subject = list(quiz_data.keys())[subject_choice-1]\n",
        "\n",
        "    # start the quiz\n",
        "    print(\"Starting the {} quiz...\".format(subject))\n",
        "    take_quiz(subject)\n",
        "\n",
        "# run the quiz application\n",
        "run_quiz()"
      ]
    }
  ]
}